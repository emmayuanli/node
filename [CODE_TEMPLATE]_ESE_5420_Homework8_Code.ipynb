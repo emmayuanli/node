{
  "cells": [
    {
      "cell_type": "markdown",
      "metadata": {
        "id": "view-in-github",
        "colab_type": "text"
      },
      "source": [
        "<a href=\"https://colab.research.google.com/github/emmayuanli/node/blob/main/%5BCODE_TEMPLATE%5D_ESE_5420_Homework8_Code.ipynb\" target=\"_parent\"><img src=\"https://colab.research.google.com/assets/colab-badge.svg\" alt=\"Open In Colab\"/></a>"
      ]
    },
    {
      "cell_type": "markdown",
      "metadata": {
        "id": "gABaLz7d5wvM"
      },
      "source": [
        "# ESE 4020/5420 - Homework8\n",
        "**Author:** `Your Name Goes Here`\n",
        "\n",
        "Please make a LOCAL copy of this otherwise you can't save."
      ]
    },
    {
      "cell_type": "code",
      "execution_count": null,
      "metadata": {
        "id": "gmV5vwO1B9EP"
      },
      "outputs": [],
      "source": [
        "# These are the only imports you can use for Question 1 and Question 2\n",
        "import numpy as np\n",
        "import matplotlib.pyplot as plt"
      ]
    },
    {
      "cell_type": "markdown",
      "metadata": {
        "id": "a2169SfL5FoJ"
      },
      "source": [
        "## Question 2\n",
        "\n",
        "You can add as many Code Blocks / Cells as you need in this section as long as it runs sequentially.\n",
        "\n",
        "### 2(a): Plotting 3D Surface of Sigmoid Function\n",
        "\n",
        "**Hint:** check out https://matplotlib.org/stable/gallery/mplot3d/surface3d.html. We recommend setting `cmap = 'RdBu'`."
      ]
    },
    {
      "cell_type": "code",
      "execution_count": null,
      "metadata": {
        "id": "vFZUziarB_ck"
      },
      "outputs": [],
      "source": [
        "# TO-DO: Your code goes here.\n"
      ]
    },
    {
      "cell_type": "markdown",
      "metadata": {
        "id": "3U_UBTFG5aqT"
      },
      "source": [
        "### 2(b)(i) - 2(b)(ii): Mathematical Derivations & Proofs\n",
        "\n",
        "Please do these on gradescope.\n"
      ]
    },
    {
      "cell_type": "markdown",
      "metadata": {
        "id": "ttKSjXNUJ3pf"
      },
      "source": [
        "### 2(b)(iii): Plotting Both Loglikelihood Function Graphs"
      ]
    },
    {
      "cell_type": "code",
      "source": [
        "# TO-DO: Your code goes here.\n"
      ],
      "metadata": {
        "id": "J4IoIr4agvpo"
      },
      "execution_count": null,
      "outputs": []
    },
    {
      "cell_type": "markdown",
      "metadata": {
        "id": "RiXQGm5DMXgf"
      },
      "source": [
        "### 2(b)(iv): Based on the graph, is it possible to maximize this function?\n",
        "\n",
        "**Answer:** _(Enter the answer in gradescope)_"
      ]
    },
    {
      "cell_type": "markdown",
      "source": [
        "## Congratulations!!! Now submit this in gradescope!\n",
        "\n",
        "You're done with all the coding questions! Now submit the images generated to the respective questions in gradescope. Also, submit this notebook by following the steps below.\n",
        "\n",
        "1. Download your Colab notebook as an `.ipynb` file to save locally on your computer\n",
        "2. Open it locally via Jupyter Notebook to view it and submit the .ipynb file to gradescope.\n",
        "\n",
        "\n",
        "Leave enough time to ask for help if you're stuck so you don't get hit with the Late Penalty!"
      ],
      "metadata": {
        "id": "KEtgsGDZo1uX"
      }
    }
  ],
  "metadata": {
    "colab": {
      "provenance": [],
      "include_colab_link": true
    },
    "kernelspec": {
      "display_name": "Python 3",
      "language": "python",
      "name": "python3"
    },
    "language_info": {
      "codemirror_mode": {
        "name": "ipython",
        "version": 3
      },
      "file_extension": ".py",
      "mimetype": "text/x-python",
      "name": "python",
      "nbconvert_exporter": "python",
      "pygments_lexer": "ipython3",
      "version": "3.7.1"
    }
  },
  "nbformat": 4,
  "nbformat_minor": 0
}